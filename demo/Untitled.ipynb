{
 "cells": [
  {
   "cell_type": "code",
   "execution_count": 2,
   "id": "73ce30ad-bf00-4f0f-b6db-0c089ee0c138",
   "metadata": {},
   "outputs": [],
   "source": [
    "import pickle\n",
    "import torch\n",
    "import anndata as ad\n",
    "import pandas as pd\n",
    "import numpy as np\n",
    "import random\n",
    "import itertools\n",
    "import argparse\n",
    "from scouter import Scouter, ScouterData"
   ]
  },
  {
   "cell_type": "code",
   "execution_count": 4,
   "id": "ee5667ae-ed02-4c66-a530-a05b37f12547",
   "metadata": {},
   "outputs": [],
   "source": [
    "def set_seeds(seed=24):\n",
    "    np.random.seed(seed)\n",
    "    random.seed(seed)\n",
    "    torch.manual_seed(seed)\n",
    "    if torch.cuda.is_available():\n",
    "        torch.cuda.manual_seed_all(seed)\n",
    "\n",
    "# Normalize the condition name. Make \"A+B\" and \"B+A\" the same\n",
    "def condition_sort(x):\n",
    "    return '+'.join(sorted(x.split('+')))"
   ]
  },
  {
   "cell_type": "code",
   "execution_count": 8,
   "id": "5873d739-cc44-454e-8569-2d79d90f4f3d",
   "metadata": {},
   "outputs": [
    {
     "name": "stdout",
     "output_type": "stream",
     "text": [
      "All 87 perturbed genes are found in the gene embedding matrix!\n"
     ]
    },
    {
     "name": "stderr",
     "output_type": "stream",
     "text": [
      "Epoch 1/40 - Training Batches: 100%|█████████████████████████████████| 250/250 [00:45<00:00,  5.52batch/s]\n",
      "Epoch 1/40 - Validation Batches: 100%|█████████████████████████████████| 30/30 [00:00<00:00, 31.52batch/s]\n"
     ]
    },
    {
     "name": "stdout",
     "output_type": "stream",
     "text": [
      "Epoch 1/40, Training Loss: 18.7230, Validation Loss: 2.5552\n"
     ]
    },
    {
     "name": "stderr",
     "output_type": "stream",
     "text": [
      "Epoch 2/40 - Training Batches: 100%|█████████████████████████████████| 250/250 [00:43<00:00,  5.69batch/s]\n",
      "Epoch 2/40 - Validation Batches: 100%|█████████████████████████████████| 30/30 [00:00<00:00, 32.05batch/s]\n"
     ]
    },
    {
     "name": "stdout",
     "output_type": "stream",
     "text": [
      "Epoch 2/40, Training Loss: 0.2949, Validation Loss: 0.1064\n"
     ]
    },
    {
     "name": "stderr",
     "output_type": "stream",
     "text": [
      "Epoch 3/40 - Training Batches: 100%|█████████████████████████████████| 250/250 [00:43<00:00,  5.69batch/s]\n",
      "Epoch 3/40 - Validation Batches: 100%|█████████████████████████████████| 30/30 [00:00<00:00, 31.56batch/s]\n"
     ]
    },
    {
     "name": "stdout",
     "output_type": "stream",
     "text": [
      "Epoch 3/40, Training Loss: 0.1181, Validation Loss: 0.1049\n"
     ]
    },
    {
     "name": "stderr",
     "output_type": "stream",
     "text": [
      "Epoch 4/40 - Training Batches: 100%|█████████████████████████████████| 250/250 [00:43<00:00,  5.69batch/s]\n",
      "Epoch 4/40 - Validation Batches: 100%|█████████████████████████████████| 30/30 [00:00<00:00, 31.95batch/s]\n"
     ]
    },
    {
     "name": "stdout",
     "output_type": "stream",
     "text": [
      "Epoch 4/40, Training Loss: 0.1174, Validation Loss: 0.1049\n"
     ]
    },
    {
     "name": "stderr",
     "output_type": "stream",
     "text": [
      "Epoch 5/40 - Training Batches: 100%|█████████████████████████████████| 250/250 [00:44<00:00,  5.67batch/s]\n",
      "Epoch 5/40 - Validation Batches: 100%|█████████████████████████████████| 30/30 [00:00<00:00, 31.96batch/s]\n"
     ]
    },
    {
     "name": "stdout",
     "output_type": "stream",
     "text": [
      "Epoch 5/40, Training Loss: 0.1162, Validation Loss: 0.1037\n"
     ]
    },
    {
     "name": "stderr",
     "output_type": "stream",
     "text": [
      "Epoch 6/40 - Training Batches: 100%|█████████████████████████████████| 250/250 [00:44<00:00,  5.67batch/s]\n",
      "Epoch 6/40 - Validation Batches: 100%|█████████████████████████████████| 30/30 [00:00<00:00, 31.83batch/s]\n"
     ]
    },
    {
     "name": "stdout",
     "output_type": "stream",
     "text": [
      "Epoch 6/40, Training Loss: 0.1160, Validation Loss: 0.1036\n"
     ]
    },
    {
     "name": "stderr",
     "output_type": "stream",
     "text": [
      "Epoch 7/40 - Training Batches: 100%|█████████████████████████████████| 250/250 [00:45<00:00,  5.51batch/s]\n",
      "Epoch 7/40 - Validation Batches: 100%|█████████████████████████████████| 30/30 [00:00<00:00, 31.64batch/s]\n"
     ]
    },
    {
     "name": "stdout",
     "output_type": "stream",
     "text": [
      "Epoch 7/40, Training Loss: 0.1159, Validation Loss: 0.1038\n"
     ]
    },
    {
     "name": "stderr",
     "output_type": "stream",
     "text": [
      "Epoch 8/40 - Training Batches: 100%|█████████████████████████████████| 250/250 [00:44<00:00,  5.68batch/s]\n",
      "Epoch 8/40 - Validation Batches: 100%|█████████████████████████████████| 30/30 [00:00<00:00, 31.67batch/s]\n"
     ]
    },
    {
     "name": "stdout",
     "output_type": "stream",
     "text": [
      "Epoch 8/40, Training Loss: 0.1154, Validation Loss: 0.1034\n"
     ]
    },
    {
     "name": "stderr",
     "output_type": "stream",
     "text": [
      "Epoch 9/40 - Training Batches: 100%|█████████████████████████████████| 250/250 [00:44<00:00,  5.68batch/s]\n",
      "Epoch 9/40 - Validation Batches: 100%|█████████████████████████████████| 30/30 [00:00<00:00, 31.81batch/s]\n"
     ]
    },
    {
     "name": "stdout",
     "output_type": "stream",
     "text": [
      "Epoch 9/40, Training Loss: 0.1156, Validation Loss: 0.1038\n"
     ]
    },
    {
     "name": "stderr",
     "output_type": "stream",
     "text": [
      "Epoch 10/40 - Training Batches:  13%|████▎                            | 33/250 [00:05<00:39,  5.51batch/s]\n"
     ]
    },
    {
     "ename": "KeyboardInterrupt",
     "evalue": "",
     "output_type": "error",
     "traceback": [
      "\u001b[0;31m---------------------------------------------------------------------------\u001b[0m",
      "\u001b[0;31mKeyboardInterrupt\u001b[0m                         Traceback (most recent call last)",
      "Cell \u001b[0;32mIn[8], line 23\u001b[0m\n\u001b[1;32m     21\u001b[0m scouter_model \u001b[38;5;241m=\u001b[39m Scouter(pertdata)\n\u001b[1;32m     22\u001b[0m scouter_model\u001b[38;5;241m.\u001b[39mmodel_init()\n\u001b[0;32m---> 23\u001b[0m \u001b[43mscouter_model\u001b[49m\u001b[38;5;241;43m.\u001b[39;49m\u001b[43mtrain\u001b[49m\u001b[43m(\u001b[49m\u001b[43mloss_lambda\u001b[49m\u001b[38;5;241;43m=\u001b[39;49m\u001b[38;5;241;43m0.01\u001b[39;49m\u001b[43m)\u001b[49m\n\u001b[1;32m     24\u001b[0m metric_df \u001b[38;5;241m=\u001b[39m scouter_model\u001b[38;5;241m.\u001b[39mevaluate()\n",
      "File \u001b[0;32m~/miniconda3/envs/Perturb/lib/python3.11/site-packages/scouter/Scouter.py:140\u001b[0m, in \u001b[0;36mScouter.train\u001b[0;34m(self, nonzero_idx_key, batch_size, loss_gamma, loss_lambda, lr, sched_gamma, n_epochs, patience)\u001b[0m\n\u001b[1;32m    138\u001b[0m optimizer\u001b[38;5;241m.\u001b[39mzero_grad()\n\u001b[1;32m    139\u001b[0m pred_expr \u001b[38;5;241m=\u001b[39m \u001b[38;5;28mself\u001b[39m\u001b[38;5;241m.\u001b[39mnetwork(pert_idx, ctrl_expr)\n\u001b[0;32m--> 140\u001b[0m loss \u001b[38;5;241m=\u001b[39m \u001b[43mgears_loss\u001b[49m\u001b[43m(\u001b[49m\u001b[43mpred_expr\u001b[49m\u001b[43m,\u001b[49m\u001b[43m \u001b[49m\u001b[43mtrue_expr\u001b[49m\u001b[43m,\u001b[49m\u001b[43m \u001b[49m\u001b[43mctrl_expr\u001b[49m\u001b[43m,\u001b[49m\u001b[43m \u001b[49m\u001b[43mgroup\u001b[49m\u001b[43m,\u001b[49m\u001b[43m \u001b[49m\n\u001b[1;32m    141\u001b[0m \u001b[43m                  \u001b[49m\u001b[43mnonzero_idx_dict\u001b[49m\u001b[38;5;241;43m=\u001b[39;49m\u001b[43mnonzero_idx_dict\u001b[49m\u001b[43m,\u001b[49m\n\u001b[1;32m    142\u001b[0m \u001b[43m                  \u001b[49m\u001b[43mgamma\u001b[49m\u001b[38;5;241;43m=\u001b[39;49m\u001b[43mloss_gamma\u001b[49m\u001b[43m,\u001b[49m\u001b[43m \u001b[49m\u001b[43mlambda_\u001b[49m\u001b[38;5;241;43m=\u001b[39;49m\u001b[43mloss_lambda\u001b[49m\u001b[43m)\u001b[49m\n\u001b[1;32m    143\u001b[0m loss\u001b[38;5;241m.\u001b[39mbackward()\n\u001b[1;32m    144\u001b[0m nn\u001b[38;5;241m.\u001b[39mutils\u001b[38;5;241m.\u001b[39mclip_grad_norm_(\u001b[38;5;28mself\u001b[39m\u001b[38;5;241m.\u001b[39mnetwork\u001b[38;5;241m.\u001b[39mparameters(), max_norm\u001b[38;5;241m=\u001b[39m\u001b[38;5;241m1.0\u001b[39m)\n",
      "File \u001b[0;32m~/miniconda3/envs/Perturb/lib/python3.11/site-packages/scouter/_utils.py:51\u001b[0m, in \u001b[0;36mgears_loss\u001b[0;34m(pred_expr, true_expr, ctrl_expr, group, nonzero_idx_dict, gamma, lambda_)\u001b[0m\n\u001b[1;32m     49\u001b[0m     cell_idx \u001b[38;5;241m=\u001b[39m idx_dict[p]\n\u001b[1;32m     50\u001b[0m     retain_gene_idx \u001b[38;5;241m=\u001b[39m \u001b[38;5;28mlist\u001b[39m(nonzero_idx_dict[p])\n\u001b[0;32m---> 51\u001b[0m     loss_scalar \u001b[38;5;241m+\u001b[39m\u001b[38;5;241m=\u001b[39m \u001b[43mtotal_loss\u001b[49m\u001b[43m[\u001b[49m\u001b[43mcell_idx\u001b[49m\u001b[43m]\u001b[49m\u001b[43m[\u001b[49m\u001b[43m:\u001b[49m\u001b[43m,\u001b[49m\u001b[43mretain_gene_idx\u001b[49m\u001b[43m]\u001b[49m\u001b[38;5;241;43m.\u001b[39;49m\u001b[43mmean\u001b[49m\u001b[43m(\u001b[49m\u001b[43m)\u001b[49m\n\u001b[1;32m     53\u001b[0m \u001b[38;5;28;01mreturn\u001b[39;00m loss_scalar\u001b[38;5;241m/\u001b[39m(\u001b[38;5;28mlen\u001b[39m(unique_cond))\n",
      "\u001b[0;31mKeyboardInterrupt\u001b[0m: "
     ]
    }
   ],
   "source": [
    "data_path = '/Users/pancake/Downloads/Perturb/Gears/adamson/Gears_data/adamson/perturb_processed.h5ad'\n",
    "embd_path = '/Users/pancake/Downloads/Perturb/scoracle/GeneEmb/GenePT_emb/GenePT_gene_embedding_ada_text.pickle'\n",
    "\n",
    "# Load the processed scRNA-seq dataset as Anndata\n",
    "adata = ad.read_h5ad(data_path)\n",
    "adata.obs['condition'] = adata.obs['condition'].astype(str).apply(lambda x: condition_sort(x)).astype('category')\n",
    "adata.uns = {}; adata.obs.drop('condition_name', axis=1, inplace=True)\n",
    "\n",
    "# Load the gene embedding as the dataframe, and rename its gene alias to match the Anndata\n",
    "with open(embd_path, 'rb') as f:\n",
    "    embd = pd.DataFrame(pickle.load(f)).T\n",
    "ctrl_row = pd.DataFrame([np.zeros(embd.shape[1])], columns=embd.columns, index=['ctrl'])\n",
    "embd = pd.concat([ctrl_row, embd])\n",
    "\n",
    "pertdata = ScouterData(adata, embd, 'condition', 'gene_name')\n",
    "pertdata.setup_ad('embd_index')\n",
    "pertdata.gene_ranks()\n",
    "pertdata.get_dropout_non_zero_genes()\n",
    "pertdata.split_Train_Val_Test(seed=1)\n",
    "\n",
    "scouter_model = Scouter(pertdata)\n",
    "scouter_model.model_init()\n",
    "scouter_model.train(loss_lambda=0.01)\n",
    "metric_df = scouter_model.evaluate()"
   ]
  }
 ],
 "metadata": {
  "kernelspec": {
   "display_name": "Python (Perturb)",
   "language": "python",
   "name": "perturb"
  },
  "language_info": {
   "codemirror_mode": {
    "name": "ipython",
    "version": 3
   },
   "file_extension": ".py",
   "mimetype": "text/x-python",
   "name": "python",
   "nbconvert_exporter": "python",
   "pygments_lexer": "ipython3",
   "version": "3.11.0"
  }
 },
 "nbformat": 4,
 "nbformat_minor": 5
}
