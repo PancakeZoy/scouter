{
 "cells": [
  {
   "cell_type": "markdown",
   "id": "1565cc87-8eff-48f6-b70d-4461b649749d",
   "metadata": {},
   "source": [
    "This notebook serves as a tutorial to guide users apply `Scouter` to their own datasets. The dataset in this notebook as an example is the [Adamson](https://www.sciencedirect.com/science/article/pii/S0092867416316609) dataset, including 86 one-gene perturbations generated using Perturb-seq."
   ]
  },
  {
   "cell_type": "markdown",
   "id": "e8463d2b-6bc8-4b11-8dc3-004789323c1f",
   "metadata": {},
   "source": [
    "# 1. Data Setup"
   ]
  },
  {
   "cell_type": "code",
   "execution_count": 1,
   "id": "73ce30ad-bf00-4f0f-b6db-0c089ee0c138",
   "metadata": {},
   "outputs": [],
   "source": [
    "import pickle\n",
    "import torch\n",
    "import anndata as ad\n",
    "import pandas as pd\n",
    "import numpy as np\n",
    "import random\n",
    "from scouter import Scouter, ScouterData"
   ]
  },
  {
   "cell_type": "markdown",
   "id": "8c2e93e5-cacc-4bb9-a9f9-8cf3f4314ba1",
   "metadata": {},
   "source": [
    "Please provide the following file paths:\n",
    "- `embd_path`: the path of the LLM embeddings generated from each gene's text description\n",
    "- `data_path`: the path of the dataset that include gene expression for both perturbed and control cells, in the form of `.h5ad`\n",
    "\n",
    "#### To use your own customized data. Please make sure to do the following quality controls:\n",
    "- Well annotated each cell's perturbation group and stored them in `.obs`\n",
    "- The embedding matrix index must be consistent with the perbutation annoation. In other words, If perturbed genes are annotated using gene symbols, the embedding matrix index must also use gene symbols to ensure consistency.\n",
    "- Remove the inefficiently perturbed cells. For example, removing the cells whose knock-outed gene's expression is still similarly high as control cells."
   ]
  },
  {
   "cell_type": "code",
   "execution_count": 2,
   "id": "a84a9beb-cef9-4d2c-926e-a3d74c14d11b",
   "metadata": {},
   "outputs": [],
   "source": [
    "data_path = '/Users/pancake/Downloads/Perturb/adamson/perturb_processed.h5ad'\n",
    "embd_path = '/Users/pancake/Downloads/Perturb/GenePT.pickle'"
   ]
  },
  {
   "cell_type": "code",
   "execution_count": 3,
   "id": "ee5667ae-ed02-4c66-a530-a05b37f12547",
   "metadata": {},
   "outputs": [],
   "source": [
    "def set_seeds(seed=24):\n",
    "    np.random.seed(seed)\n",
    "    random.seed(seed)\n",
    "    torch.manual_seed(seed)\n",
    "    if torch.cuda.is_available():\n",
    "        torch.cuda.manual_seed_all(seed)\n",
    "        \n",
    "# Normalize the condition name. Make \"A+B\" and \"B+A\" the same\n",
    "def condition_sort(x):\n",
    "    return '+'.join(sorted(x.split('+')))\n",
    "\n",
    "# Set seeds for reproducibility\n",
    "set_seeds(24)"
   ]
  },
  {
   "cell_type": "markdown",
   "id": "bc9d676a-2b65-4439-9ae3-b9dcc35a48e7",
   "metadata": {},
   "source": [
    "### a) Load `.h5ad` scRNA-seq file as Anndata"
   ]
  },
  {
   "cell_type": "code",
   "execution_count": 4,
   "id": "5873d739-cc44-454e-8569-2d79d90f4f3d",
   "metadata": {},
   "outputs": [
    {
     "name": "stdout",
     "output_type": "stream",
     "text": [
      "AnnData object with n_obs × n_vars = 68603 × 5060\n",
      "    obs: 'condition', 'cell_type', 'dose_val', 'control'\n",
      "    var: 'gene_name'\n"
     ]
    }
   ],
   "source": [
    "adata = ad.read_h5ad(data_path)\n",
    "adata.obs['condition'] = adata.obs['condition'].astype(str).apply(lambda x: condition_sort(x)).astype('category')\n",
    "adata.uns = {}; adata.obs.drop('condition_name', axis=1, inplace=True)\n",
    "print(adata)"
   ]
  },
  {
   "cell_type": "code",
   "execution_count": 5,
   "id": "83dbed53-5002-443f-b27c-024b72d00c88",
   "metadata": {},
   "outputs": [
    {
     "name": "stdout",
     "output_type": "stream",
     "text": [
      "condition\n",
      "ctrl            24263\n",
      "IER3IP1+ctrl     1267\n",
      "YIPF5+ctrl       1182\n",
      "SCYL1+ctrl       1024\n",
      "HSPA5+ctrl       1002\n",
      "                ...  \n",
      "HARS+ctrl         272\n",
      "CAD+ctrl          242\n",
      "COPZ1+ctrl        220\n",
      "PPWD1+ctrl        190\n",
      "COPB1+ctrl        185\n",
      "Name: count, Length: 87, dtype: int64\n"
     ]
    }
   ],
   "source": [
    "# check the number of cells under each genetic perturbation\n",
    "print(adata.obs.condition.value_counts())"
   ]
  },
  {
   "cell_type": "markdown",
   "id": "cdb946f2-4fe7-465b-942b-deb0c602d331",
   "metadata": {},
   "source": [
    " "
   ]
  },
  {
   "cell_type": "markdown",
   "id": "770c0909-d930-4f3a-b44d-b4c2535af9b6",
   "metadata": {},
   "source": [
    "### b) Load the gene embedding matrix as as a `pandas.DataFrame`"
   ]
  },
  {
   "cell_type": "markdown",
   "id": "9440c17c-f51e-4d16-9efe-54d02ed8100f",
   "metadata": {},
   "source": [
    "In order to make `Scouter` aware of that `'GeneA+ctrl'` denotes a one-gene perturbation but `'GeneA+GeneB'` denotes a two-gene perturbation, please add a row of zeros for `'ctrl'` to the embedding dataframe.\n",
    "\\\n",
    "\\\n",
    "**Note: it is possible that there exist some perturbed genes not presented in your provided embedding dataframe. However:**\n",
    "- theoratically, as long as there is text description for that gene, you can always obtain embeddings for it.\n",
    "- this unmatch might due to the different gene symbols for the actually same gene. See details in the notebook of [UnmatchRemedy](UnmatchRemedy.ipynb)."
   ]
  },
  {
   "cell_type": "code",
   "execution_count": 6,
   "id": "c5aba3eb-cf90-4449-b566-12b335ba2341",
   "metadata": {},
   "outputs": [
    {
     "data": {
      "text/html": [
       "<div>\n",
       "<style scoped>\n",
       "    .dataframe tbody tr th:only-of-type {\n",
       "        vertical-align: middle;\n",
       "    }\n",
       "\n",
       "    .dataframe tbody tr th {\n",
       "        vertical-align: top;\n",
       "    }\n",
       "\n",
       "    .dataframe thead th {\n",
       "        text-align: right;\n",
       "    }\n",
       "</style>\n",
       "<table border=\"1\" class=\"dataframe\">\n",
       "  <thead>\n",
       "    <tr style=\"text-align: right;\">\n",
       "      <th></th>\n",
       "      <th>0</th>\n",
       "      <th>1</th>\n",
       "      <th>2</th>\n",
       "      <th>3</th>\n",
       "      <th>4</th>\n",
       "      <th>5</th>\n",
       "      <th>6</th>\n",
       "      <th>7</th>\n",
       "      <th>8</th>\n",
       "      <th>9</th>\n",
       "      <th>...</th>\n",
       "      <th>1526</th>\n",
       "      <th>1527</th>\n",
       "      <th>1528</th>\n",
       "      <th>1529</th>\n",
       "      <th>1530</th>\n",
       "      <th>1531</th>\n",
       "      <th>1532</th>\n",
       "      <th>1533</th>\n",
       "      <th>1534</th>\n",
       "      <th>1535</th>\n",
       "    </tr>\n",
       "  </thead>\n",
       "  <tbody>\n",
       "    <tr>\n",
       "      <th>ctrl</th>\n",
       "      <td>0.000000</td>\n",
       "      <td>0.000000</td>\n",
       "      <td>0.000000</td>\n",
       "      <td>0.000000</td>\n",
       "      <td>0.000000</td>\n",
       "      <td>0.000000</td>\n",
       "      <td>0.000000</td>\n",
       "      <td>0.000000</td>\n",
       "      <td>0.000000</td>\n",
       "      <td>0.000000</td>\n",
       "      <td>...</td>\n",
       "      <td>0.000000</td>\n",
       "      <td>0.000000</td>\n",
       "      <td>0.000000</td>\n",
       "      <td>0.000000</td>\n",
       "      <td>0.000000</td>\n",
       "      <td>0.000000</td>\n",
       "      <td>0.000000</td>\n",
       "      <td>0.000000</td>\n",
       "      <td>0.000000</td>\n",
       "      <td>0.000000</td>\n",
       "    </tr>\n",
       "    <tr>\n",
       "      <th>A1BG</th>\n",
       "      <td>-0.043067</td>\n",
       "      <td>-0.020245</td>\n",
       "      <td>-0.002102</td>\n",
       "      <td>-0.017412</td>\n",
       "      <td>-0.004772</td>\n",
       "      <td>0.018790</td>\n",
       "      <td>-0.014167</td>\n",
       "      <td>0.031064</td>\n",
       "      <td>-0.031476</td>\n",
       "      <td>-0.015532</td>\n",
       "      <td>...</td>\n",
       "      <td>0.017876</td>\n",
       "      <td>0.011861</td>\n",
       "      <td>0.018005</td>\n",
       "      <td>-0.022229</td>\n",
       "      <td>-0.010683</td>\n",
       "      <td>0.012982</td>\n",
       "      <td>-0.017103</td>\n",
       "      <td>-0.046699</td>\n",
       "      <td>-0.006304</td>\n",
       "      <td>0.005322</td>\n",
       "    </tr>\n",
       "    <tr>\n",
       "      <th>A1BG-AS1</th>\n",
       "      <td>-0.027003</td>\n",
       "      <td>-0.006847</td>\n",
       "      <td>0.007299</td>\n",
       "      <td>-0.025647</td>\n",
       "      <td>-0.014492</td>\n",
       "      <td>0.028187</td>\n",
       "      <td>-0.025594</td>\n",
       "      <td>0.015941</td>\n",
       "      <td>-0.013449</td>\n",
       "      <td>-0.011075</td>\n",
       "      <td>...</td>\n",
       "      <td>0.005185</td>\n",
       "      <td>-0.005292</td>\n",
       "      <td>0.023267</td>\n",
       "      <td>-0.001981</td>\n",
       "      <td>-0.007359</td>\n",
       "      <td>0.017417</td>\n",
       "      <td>-0.014718</td>\n",
       "      <td>-0.044753</td>\n",
       "      <td>-0.007658</td>\n",
       "      <td>-0.001966</td>\n",
       "    </tr>\n",
       "    <tr>\n",
       "      <th>A1CF</th>\n",
       "      <td>-0.040730</td>\n",
       "      <td>-0.014075</td>\n",
       "      <td>0.006621</td>\n",
       "      <td>-0.016098</td>\n",
       "      <td>-0.014863</td>\n",
       "      <td>0.028676</td>\n",
       "      <td>-0.013485</td>\n",
       "      <td>0.035556</td>\n",
       "      <td>-0.019065</td>\n",
       "      <td>-0.008430</td>\n",
       "      <td>...</td>\n",
       "      <td>0.016544</td>\n",
       "      <td>0.017621</td>\n",
       "      <td>-0.017489</td>\n",
       "      <td>-0.015796</td>\n",
       "      <td>-0.027547</td>\n",
       "      <td>0.031906</td>\n",
       "      <td>-0.001667</td>\n",
       "      <td>-0.029385</td>\n",
       "      <td>-0.015073</td>\n",
       "      <td>-0.006473</td>\n",
       "    </tr>\n",
       "    <tr>\n",
       "      <th>A2M</th>\n",
       "      <td>-0.029095</td>\n",
       "      <td>-0.001240</td>\n",
       "      <td>-0.015252</td>\n",
       "      <td>-0.025177</td>\n",
       "      <td>-0.012216</td>\n",
       "      <td>0.018987</td>\n",
       "      <td>-0.026927</td>\n",
       "      <td>0.009624</td>\n",
       "      <td>-0.008991</td>\n",
       "      <td>0.006676</td>\n",
       "      <td>...</td>\n",
       "      <td>0.029121</td>\n",
       "      <td>-0.007874</td>\n",
       "      <td>0.013072</td>\n",
       "      <td>-0.018191</td>\n",
       "      <td>-0.007998</td>\n",
       "      <td>0.017277</td>\n",
       "      <td>0.000805</td>\n",
       "      <td>-0.049257</td>\n",
       "      <td>0.005132</td>\n",
       "      <td>0.001392</td>\n",
       "    </tr>\n",
       "    <tr>\n",
       "      <th>...</th>\n",
       "      <td>...</td>\n",
       "      <td>...</td>\n",
       "      <td>...</td>\n",
       "      <td>...</td>\n",
       "      <td>...</td>\n",
       "      <td>...</td>\n",
       "      <td>...</td>\n",
       "      <td>...</td>\n",
       "      <td>...</td>\n",
       "      <td>...</td>\n",
       "      <td>...</td>\n",
       "      <td>...</td>\n",
       "      <td>...</td>\n",
       "      <td>...</td>\n",
       "      <td>...</td>\n",
       "      <td>...</td>\n",
       "      <td>...</td>\n",
       "      <td>...</td>\n",
       "      <td>...</td>\n",
       "      <td>...</td>\n",
       "      <td>...</td>\n",
       "    </tr>\n",
       "    <tr>\n",
       "      <th>KRTAP28p1</th>\n",
       "      <td>-0.023102</td>\n",
       "      <td>-0.027802</td>\n",
       "      <td>0.012746</td>\n",
       "      <td>-0.025011</td>\n",
       "      <td>-0.025319</td>\n",
       "      <td>0.011838</td>\n",
       "      <td>-0.012279</td>\n",
       "      <td>0.012532</td>\n",
       "      <td>-0.002612</td>\n",
       "      <td>-0.001223</td>\n",
       "      <td>...</td>\n",
       "      <td>0.021593</td>\n",
       "      <td>0.001784</td>\n",
       "      <td>-0.006917</td>\n",
       "      <td>-0.015584</td>\n",
       "      <td>-0.016211</td>\n",
       "      <td>0.015237</td>\n",
       "      <td>-0.004383</td>\n",
       "      <td>-0.029992</td>\n",
       "      <td>-0.011564</td>\n",
       "      <td>-0.028737</td>\n",
       "    </tr>\n",
       "    <tr>\n",
       "      <th>ELOC26</th>\n",
       "      <td>-0.018420</td>\n",
       "      <td>-0.001902</td>\n",
       "      <td>0.016638</td>\n",
       "      <td>-0.047502</td>\n",
       "      <td>-0.040348</td>\n",
       "      <td>0.031001</td>\n",
       "      <td>-0.014815</td>\n",
       "      <td>0.021983</td>\n",
       "      <td>-0.009484</td>\n",
       "      <td>0.016926</td>\n",
       "      <td>...</td>\n",
       "      <td>-0.009923</td>\n",
       "      <td>-0.017529</td>\n",
       "      <td>-0.000795</td>\n",
       "      <td>-0.000451</td>\n",
       "      <td>-0.016761</td>\n",
       "      <td>0.033331</td>\n",
       "      <td>-0.005880</td>\n",
       "      <td>-0.003310</td>\n",
       "      <td>0.013431</td>\n",
       "      <td>-0.021874</td>\n",
       "    </tr>\n",
       "    <tr>\n",
       "      <th>FASRL</th>\n",
       "      <td>-0.020013</td>\n",
       "      <td>-0.018781</td>\n",
       "      <td>0.006378</td>\n",
       "      <td>-0.025457</td>\n",
       "      <td>-0.029833</td>\n",
       "      <td>0.016620</td>\n",
       "      <td>-0.011967</td>\n",
       "      <td>0.019238</td>\n",
       "      <td>-0.029445</td>\n",
       "      <td>0.005222</td>\n",
       "      <td>...</td>\n",
       "      <td>0.003350</td>\n",
       "      <td>0.005149</td>\n",
       "      <td>0.013137</td>\n",
       "      <td>-0.017991</td>\n",
       "      <td>-0.004148</td>\n",
       "      <td>0.010685</td>\n",
       "      <td>-0.019307</td>\n",
       "      <td>-0.018268</td>\n",
       "      <td>-0.019376</td>\n",
       "      <td>-0.017714</td>\n",
       "    </tr>\n",
       "    <tr>\n",
       "      <th>COMT2</th>\n",
       "      <td>-0.021027</td>\n",
       "      <td>-0.005336</td>\n",
       "      <td>-0.008690</td>\n",
       "      <td>-0.036186</td>\n",
       "      <td>-0.029208</td>\n",
       "      <td>0.038274</td>\n",
       "      <td>-0.008141</td>\n",
       "      <td>0.021674</td>\n",
       "      <td>-0.031666</td>\n",
       "      <td>0.009516</td>\n",
       "      <td>...</td>\n",
       "      <td>0.014181</td>\n",
       "      <td>0.013824</td>\n",
       "      <td>-0.018714</td>\n",
       "      <td>-0.005782</td>\n",
       "      <td>-0.021146</td>\n",
       "      <td>0.024820</td>\n",
       "      <td>0.002504</td>\n",
       "      <td>-0.003615</td>\n",
       "      <td>-0.014974</td>\n",
       "      <td>-0.036582</td>\n",
       "    </tr>\n",
       "    <tr>\n",
       "      <th>lnc-RP11-211G3.3.1-1</th>\n",
       "      <td>-0.026631</td>\n",
       "      <td>-0.014645</td>\n",
       "      <td>0.012490</td>\n",
       "      <td>-0.020618</td>\n",
       "      <td>-0.009611</td>\n",
       "      <td>0.023853</td>\n",
       "      <td>-0.022779</td>\n",
       "      <td>0.017584</td>\n",
       "      <td>-0.010061</td>\n",
       "      <td>0.001175</td>\n",
       "      <td>...</td>\n",
       "      <td>0.003393</td>\n",
       "      <td>-0.014403</td>\n",
       "      <td>0.018484</td>\n",
       "      <td>-0.003460</td>\n",
       "      <td>-0.016282</td>\n",
       "      <td>0.021625</td>\n",
       "      <td>-0.013826</td>\n",
       "      <td>-0.035920</td>\n",
       "      <td>-0.008490</td>\n",
       "      <td>-0.004936</td>\n",
       "    </tr>\n",
       "  </tbody>\n",
       "</table>\n",
       "<p>93801 rows × 1536 columns</p>\n",
       "</div>"
      ],
      "text/plain": [
       "                          0         1         2         3         4     \\\n",
       "ctrl                  0.000000  0.000000  0.000000  0.000000  0.000000   \n",
       "A1BG                 -0.043067 -0.020245 -0.002102 -0.017412 -0.004772   \n",
       "A1BG-AS1             -0.027003 -0.006847  0.007299 -0.025647 -0.014492   \n",
       "A1CF                 -0.040730 -0.014075  0.006621 -0.016098 -0.014863   \n",
       "A2M                  -0.029095 -0.001240 -0.015252 -0.025177 -0.012216   \n",
       "...                        ...       ...       ...       ...       ...   \n",
       "KRTAP28p1            -0.023102 -0.027802  0.012746 -0.025011 -0.025319   \n",
       "ELOC26               -0.018420 -0.001902  0.016638 -0.047502 -0.040348   \n",
       "FASRL                -0.020013 -0.018781  0.006378 -0.025457 -0.029833   \n",
       "COMT2                -0.021027 -0.005336 -0.008690 -0.036186 -0.029208   \n",
       "lnc-RP11-211G3.3.1-1 -0.026631 -0.014645  0.012490 -0.020618 -0.009611   \n",
       "\n",
       "                          5         6         7         8         9     ...  \\\n",
       "ctrl                  0.000000  0.000000  0.000000  0.000000  0.000000  ...   \n",
       "A1BG                  0.018790 -0.014167  0.031064 -0.031476 -0.015532  ...   \n",
       "A1BG-AS1              0.028187 -0.025594  0.015941 -0.013449 -0.011075  ...   \n",
       "A1CF                  0.028676 -0.013485  0.035556 -0.019065 -0.008430  ...   \n",
       "A2M                   0.018987 -0.026927  0.009624 -0.008991  0.006676  ...   \n",
       "...                        ...       ...       ...       ...       ...  ...   \n",
       "KRTAP28p1             0.011838 -0.012279  0.012532 -0.002612 -0.001223  ...   \n",
       "ELOC26                0.031001 -0.014815  0.021983 -0.009484  0.016926  ...   \n",
       "FASRL                 0.016620 -0.011967  0.019238 -0.029445  0.005222  ...   \n",
       "COMT2                 0.038274 -0.008141  0.021674 -0.031666  0.009516  ...   \n",
       "lnc-RP11-211G3.3.1-1  0.023853 -0.022779  0.017584 -0.010061  0.001175  ...   \n",
       "\n",
       "                          1526      1527      1528      1529      1530  \\\n",
       "ctrl                  0.000000  0.000000  0.000000  0.000000  0.000000   \n",
       "A1BG                  0.017876  0.011861  0.018005 -0.022229 -0.010683   \n",
       "A1BG-AS1              0.005185 -0.005292  0.023267 -0.001981 -0.007359   \n",
       "A1CF                  0.016544  0.017621 -0.017489 -0.015796 -0.027547   \n",
       "A2M                   0.029121 -0.007874  0.013072 -0.018191 -0.007998   \n",
       "...                        ...       ...       ...       ...       ...   \n",
       "KRTAP28p1             0.021593  0.001784 -0.006917 -0.015584 -0.016211   \n",
       "ELOC26               -0.009923 -0.017529 -0.000795 -0.000451 -0.016761   \n",
       "FASRL                 0.003350  0.005149  0.013137 -0.017991 -0.004148   \n",
       "COMT2                 0.014181  0.013824 -0.018714 -0.005782 -0.021146   \n",
       "lnc-RP11-211G3.3.1-1  0.003393 -0.014403  0.018484 -0.003460 -0.016282   \n",
       "\n",
       "                          1531      1532      1533      1534      1535  \n",
       "ctrl                  0.000000  0.000000  0.000000  0.000000  0.000000  \n",
       "A1BG                  0.012982 -0.017103 -0.046699 -0.006304  0.005322  \n",
       "A1BG-AS1              0.017417 -0.014718 -0.044753 -0.007658 -0.001966  \n",
       "A1CF                  0.031906 -0.001667 -0.029385 -0.015073 -0.006473  \n",
       "A2M                   0.017277  0.000805 -0.049257  0.005132  0.001392  \n",
       "...                        ...       ...       ...       ...       ...  \n",
       "KRTAP28p1             0.015237 -0.004383 -0.029992 -0.011564 -0.028737  \n",
       "ELOC26                0.033331 -0.005880 -0.003310  0.013431 -0.021874  \n",
       "FASRL                 0.010685 -0.019307 -0.018268 -0.019376 -0.017714  \n",
       "COMT2                 0.024820  0.002504 -0.003615 -0.014974 -0.036582  \n",
       "lnc-RP11-211G3.3.1-1  0.021625 -0.013826 -0.035920 -0.008490 -0.004936  \n",
       "\n",
       "[93801 rows x 1536 columns]"
      ]
     },
     "execution_count": 6,
     "metadata": {},
     "output_type": "execute_result"
    }
   ],
   "source": [
    "with open(embd_path, 'rb') as f:\n",
    "    embd = pd.DataFrame(pickle.load(f)).T\n",
    "ctrl_row = pd.DataFrame([np.zeros(embd.shape[1])], columns=embd.columns, index=['ctrl'])\n",
    "embd = pd.concat([ctrl_row, embd])\n",
    "embd"
   ]
  },
  {
   "cell_type": "markdown",
   "id": "ec0255dc-9c20-43ef-b920-22ca2e500ad9",
   "metadata": {},
   "source": [
    "# 2. Data Loader"
   ]
  },
  {
   "cell_type": "markdown",
   "id": "a31fdc8a-abbc-43ec-999b-f7c6492e2847",
   "metadata": {},
   "source": [
    "`ScouterData` is a dataloader that combiens the gene expression and gene embeddigns together, and prepares the training of `Scouter`. The function takes as input:\n",
    "- `adata`: the adata object that contains gene expression and cell annotations\n",
    "- `embd`: the dataframe that contains ge\n",
    "- `key_label`: The column name of `adata.obs` that corresponds to perturbation conditions\n",
    "- `key_var_genename`: The column name of `adata.var` that corresponds to gene names. This is for readability of plots later, where you can show genes in their names instead of index or ensembl ids."
   ]
  },
  {
   "cell_type": "code",
   "execution_count": 7,
   "id": "226d350f-95d7-4a4b-9cc0-d773117813ba",
   "metadata": {},
   "outputs": [],
   "source": [
    "scouterdata = ScouterData(adata=adata, embd=embd, key_label='condition', key_var_genename='gene_name')"
   ]
  },
  {
   "cell_type": "markdown",
   "id": "42481a20-6854-4e90-8851-994ccbe1916e",
   "metadata": {},
   "source": [
    "We perform the follwing necessary preprocessing for the smooth training of `Scouter` later:\n",
    "- `ScouterData.setup_ad(key_embd_index)`: Setup `adata` and `embd`.\n",
    "        `embd` will be filtered so that it only contains the matched genes to save memory usage.\n",
    "        `adata` will drop the perturbation conditions not covered by matched genes.\n",
    "        A new column named `key_embd_index` will be added to `adata.obs`, denoting the index of perturbed genes in `embd`.\n",
    "\n",
    "- `ScouterData.gene_ranks()`: Rank genes for each perturbation group. Saved as a dictionary in `adata.uns['rank_genes_groups']`. We need this step for model measurement, because we only calculate the metric across top20 DEGs.\n",
    "\n",
    "- `ScouterData.get_dropout_non_zero_genes()`: Compute the non-zero genes and top 20 differentially expressed genes for each perturbation group. We perform this step because in the loss function of `Scouter`, we only calculate the loss on non-zeros of each group.\n",
    "\n",
    "- `ScouterData.split_Train_Val_Test(seed)`: split the data into three sets: Training, Validation, and Testing, based on the random seed `seed`."
   ]
  },
  {
   "cell_type": "code",
   "execution_count": 8,
   "id": "549d8165-3e0f-4835-8402-90a7266cc6d6",
   "metadata": {},
   "outputs": [
    {
     "name": "stdout",
     "output_type": "stream",
     "text": [
      "All 87 perturbed genes are found in the gene embedding matrix!\n"
     ]
    },
    {
     "name": "stderr",
     "output_type": "stream",
     "text": [
      "OMP: Info #276: omp_set_nested routine deprecated, please use omp_set_max_active_levels instead.\n"
     ]
    }
   ],
   "source": [
    "scouterdata.setup_ad('embd_index')\n",
    "scouterdata.gene_ranks()\n",
    "scouterdata.get_dropout_non_zero_genes()\n",
    "scouterdata.split_Train_Val_Test(seed=1)"
   ]
  },
  {
   "cell_type": "markdown",
   "id": "e27ecaf6-9b8a-4b95-8c5d-34743cd4bfae",
   "metadata": {},
   "source": [
    "### So far, loading the user's own dataset is finished. The following training, prediction, and evaluation steps are same as those in [Demo](Demo.ipynb)."
   ]
  },
  {
   "cell_type": "markdown",
   "id": "4657d4fb-8fcf-48e3-878f-acf2e3987663",
   "metadata": {},
   "source": [
    "# 3. `Scouter` Training"
   ]
  },
  {
   "cell_type": "markdown",
   "id": "8d6c5f10-17f1-406f-ada5-bc4afd40222b",
   "metadata": {},
   "source": [
    "We train `Scouter` model on `scouterdata`. This is a supervised training, so we would recommend a hyperparameter searching based on the metrics on validation set for both `Scouter.model_init()` and `Scouter.train()`. However, across the experiments on five different datasets in our work, we notice most hyparameters are not sensitive. Therefore, users are welcome to start with our default parameters. For a efficient searching, we recommend targeting on these parameters:\n",
    "- `loss_gamma` in `Scouter.train()`: $\\gamma$ in $L_\\text{autofocus}$. `loss_gamma=0` denotes MSE loss. `loss_gamma=0` returns the best result on all five datasets in our work.\n",
    "- `loss_lambda` in `Scouter.train()`: $\\lambda$ in $L=L_\\text{autofocus}+\\lambda L_\\text{direnction}$\n",
    "- `lr` in `Scouter.train()`: learning rate\n",
    "- gene embedding source: In this example, we use the embeddings provided by [GenePT](https://github.com/yiqunchen/GenePT). However, there are some other embeddings available online. The author of [scELMo](https://sites.google.com/yale.edu/scelmolib) collected a series of embeddings for biological terms."
   ]
  },
  {
   "cell_type": "code",
   "execution_count": 9,
   "id": "bd35c898-b125-4b70-9ada-81e868ce62a1",
   "metadata": {},
   "outputs": [
    {
     "name": "stderr",
     "output_type": "stream",
     "text": [
      "Epoch 1/40 - Training Batches: 100%|████████████████████████████████████████████████████████████████| 125/125 [00:24<00:00,  5.13batch/s]\n",
      "Epoch 1/40 - Validation Batches: 100%|████████████████████████████████████████████████████████████████| 15/15 [00:00<00:00, 25.62batch/s]\n"
     ]
    },
    {
     "name": "stdout",
     "output_type": "stream",
     "text": [
      "Epoch 1/40, Training Loss: 0.7375, Validation Loss: 0.5977\n"
     ]
    },
    {
     "name": "stderr",
     "output_type": "stream",
     "text": [
      "Epoch 2/40 - Training Batches: 100%|████████████████████████████████████████████████████████████████| 125/125 [00:23<00:00,  5.29batch/s]\n",
      "Epoch 2/40 - Validation Batches: 100%|████████████████████████████████████████████████████████████████| 15/15 [00:00<00:00, 26.90batch/s]\n"
     ]
    },
    {
     "name": "stdout",
     "output_type": "stream",
     "text": [
      "Epoch 2/40, Training Loss: 0.6095, Validation Loss: 0.5725\n"
     ]
    },
    {
     "name": "stderr",
     "output_type": "stream",
     "text": [
      "Epoch 3/40 - Training Batches: 100%|████████████████████████████████████████████████████████████████| 125/125 [00:24<00:00,  5.07batch/s]\n",
      "Epoch 3/40 - Validation Batches: 100%|████████████████████████████████████████████████████████████████| 15/15 [00:00<00:00, 24.86batch/s]\n"
     ]
    },
    {
     "name": "stdout",
     "output_type": "stream",
     "text": [
      "Epoch 3/40, Training Loss: 0.6000, Validation Loss: 0.5704\n"
     ]
    },
    {
     "name": "stderr",
     "output_type": "stream",
     "text": [
      "Epoch 4/40 - Training Batches: 100%|████████████████████████████████████████████████████████████████| 125/125 [00:24<00:00,  5.13batch/s]\n",
      "Epoch 4/40 - Validation Batches: 100%|████████████████████████████████████████████████████████████████| 15/15 [00:00<00:00, 23.91batch/s]\n"
     ]
    },
    {
     "name": "stdout",
     "output_type": "stream",
     "text": [
      "Epoch 4/40, Training Loss: 0.5968, Validation Loss: 0.5682\n"
     ]
    },
    {
     "name": "stderr",
     "output_type": "stream",
     "text": [
      "Epoch 5/40 - Training Batches: 100%|████████████████████████████████████████████████████████████████| 125/125 [00:24<00:00,  5.08batch/s]\n",
      "Epoch 5/40 - Validation Batches: 100%|████████████████████████████████████████████████████████████████| 15/15 [00:00<00:00, 26.45batch/s]\n"
     ]
    },
    {
     "name": "stdout",
     "output_type": "stream",
     "text": [
      "Epoch 5/40, Training Loss: 0.5927, Validation Loss: 0.5614\n"
     ]
    },
    {
     "name": "stderr",
     "output_type": "stream",
     "text": [
      "Epoch 6/40 - Training Batches: 100%|████████████████████████████████████████████████████████████████| 125/125 [00:25<00:00,  4.85batch/s]\n",
      "Epoch 6/40 - Validation Batches: 100%|████████████████████████████████████████████████████████████████| 15/15 [00:00<00:00, 24.71batch/s]\n"
     ]
    },
    {
     "name": "stdout",
     "output_type": "stream",
     "text": [
      "Epoch 6/40, Training Loss: 0.5900, Validation Loss: 0.5607\n"
     ]
    },
    {
     "name": "stderr",
     "output_type": "stream",
     "text": [
      "Epoch 7/40 - Training Batches: 100%|████████████████████████████████████████████████████████████████| 125/125 [00:25<00:00,  4.87batch/s]\n",
      "Epoch 7/40 - Validation Batches: 100%|████████████████████████████████████████████████████████████████| 15/15 [00:00<00:00, 24.73batch/s]\n"
     ]
    },
    {
     "name": "stdout",
     "output_type": "stream",
     "text": [
      "Epoch 7/40, Training Loss: 0.5880, Validation Loss: 0.5589\n"
     ]
    },
    {
     "name": "stderr",
     "output_type": "stream",
     "text": [
      "Epoch 8/40 - Training Batches: 100%|████████████████████████████████████████████████████████████████| 125/125 [00:24<00:00,  5.12batch/s]\n",
      "Epoch 8/40 - Validation Batches: 100%|████████████████████████████████████████████████████████████████| 15/15 [00:00<00:00, 25.86batch/s]\n"
     ]
    },
    {
     "name": "stdout",
     "output_type": "stream",
     "text": [
      "Epoch 8/40, Training Loss: 0.5871, Validation Loss: 0.5601\n"
     ]
    },
    {
     "name": "stderr",
     "output_type": "stream",
     "text": [
      "Epoch 9/40 - Training Batches: 100%|████████████████████████████████████████████████████████████████| 125/125 [00:25<00:00,  4.90batch/s]\n",
      "Epoch 9/40 - Validation Batches: 100%|████████████████████████████████████████████████████████████████| 15/15 [00:00<00:00, 24.72batch/s]\n"
     ]
    },
    {
     "name": "stdout",
     "output_type": "stream",
     "text": [
      "Epoch 9/40, Training Loss: 0.5855, Validation Loss: 0.5623\n"
     ]
    },
    {
     "name": "stderr",
     "output_type": "stream",
     "text": [
      "Epoch 10/40 - Training Batches: 100%|███████████████████████████████████████████████████████████████| 125/125 [00:24<00:00,  5.09batch/s]\n",
      "Epoch 10/40 - Validation Batches: 100%|███████████████████████████████████████████████████████████████| 15/15 [00:00<00:00, 24.72batch/s]\n"
     ]
    },
    {
     "name": "stdout",
     "output_type": "stream",
     "text": [
      "Epoch 10/40, Training Loss: 0.5841, Validation Loss: 0.5584\n"
     ]
    },
    {
     "name": "stderr",
     "output_type": "stream",
     "text": [
      "Epoch 11/40 - Training Batches: 100%|███████████████████████████████████████████████████████████████| 125/125 [00:24<00:00,  5.16batch/s]\n",
      "Epoch 11/40 - Validation Batches: 100%|███████████████████████████████████████████████████████████████| 15/15 [00:00<00:00, 26.22batch/s]\n"
     ]
    },
    {
     "name": "stdout",
     "output_type": "stream",
     "text": [
      "Epoch 11/40, Training Loss: 0.5826, Validation Loss: 0.5578\n"
     ]
    },
    {
     "name": "stderr",
     "output_type": "stream",
     "text": [
      "Epoch 12/40 - Training Batches: 100%|███████████████████████████████████████████████████████████████| 125/125 [00:23<00:00,  5.23batch/s]\n",
      "Epoch 12/40 - Validation Batches: 100%|███████████████████████████████████████████████████████████████| 15/15 [00:00<00:00, 25.25batch/s]\n"
     ]
    },
    {
     "name": "stdout",
     "output_type": "stream",
     "text": [
      "Epoch 12/40, Training Loss: 0.5812, Validation Loss: 0.5544\n"
     ]
    },
    {
     "name": "stderr",
     "output_type": "stream",
     "text": [
      "Epoch 13/40 - Training Batches: 100%|███████████████████████████████████████████████████████████████| 125/125 [00:26<00:00,  4.79batch/s]\n",
      "Epoch 13/40 - Validation Batches: 100%|███████████████████████████████████████████████████████████████| 15/15 [00:00<00:00, 23.54batch/s]\n"
     ]
    },
    {
     "name": "stdout",
     "output_type": "stream",
     "text": [
      "Epoch 13/40, Training Loss: 0.5804, Validation Loss: 0.5561\n"
     ]
    },
    {
     "name": "stderr",
     "output_type": "stream",
     "text": [
      "Epoch 14/40 - Training Batches: 100%|███████████████████████████████████████████████████████████████| 125/125 [00:25<00:00,  4.96batch/s]\n",
      "Epoch 14/40 - Validation Batches: 100%|███████████████████████████████████████████████████████████████| 15/15 [00:00<00:00, 25.35batch/s]\n"
     ]
    },
    {
     "name": "stdout",
     "output_type": "stream",
     "text": [
      "Epoch 14/40, Training Loss: 0.5792, Validation Loss: 0.5548\n"
     ]
    },
    {
     "name": "stderr",
     "output_type": "stream",
     "text": [
      "Epoch 15/40 - Training Batches: 100%|███████████████████████████████████████████████████████████████| 125/125 [00:25<00:00,  4.84batch/s]\n",
      "Epoch 15/40 - Validation Batches: 100%|███████████████████████████████████████████████████████████████| 15/15 [00:00<00:00, 24.78batch/s]\n"
     ]
    },
    {
     "name": "stdout",
     "output_type": "stream",
     "text": [
      "Epoch 15/40, Training Loss: 0.5788, Validation Loss: 0.5541\n"
     ]
    },
    {
     "name": "stderr",
     "output_type": "stream",
     "text": [
      "Epoch 16/40 - Training Batches: 100%|███████████████████████████████████████████████████████████████| 125/125 [00:25<00:00,  4.88batch/s]\n",
      "Epoch 16/40 - Validation Batches: 100%|███████████████████████████████████████████████████████████████| 15/15 [00:00<00:00, 25.42batch/s]\n"
     ]
    },
    {
     "name": "stdout",
     "output_type": "stream",
     "text": [
      "Epoch 16/40, Training Loss: 0.5775, Validation Loss: 0.5540\n"
     ]
    },
    {
     "name": "stderr",
     "output_type": "stream",
     "text": [
      "Epoch 17/40 - Training Batches: 100%|███████████████████████████████████████████████████████████████| 125/125 [00:25<00:00,  4.94batch/s]\n",
      "Epoch 17/40 - Validation Batches: 100%|███████████████████████████████████████████████████████████████| 15/15 [00:00<00:00, 23.65batch/s]"
     ]
    },
    {
     "name": "stdout",
     "output_type": "stream",
     "text": [
      "Epoch 17/40, Training Loss: 0.5765, Validation Loss: 0.5559\n",
      "Early stopping after 17 epochs\n"
     ]
    },
    {
     "name": "stderr",
     "output_type": "stream",
     "text": [
      "\n"
     ]
    }
   ],
   "source": [
    "scouter_model = Scouter(scouterdata)\n",
    "scouter_model.model_init()\n",
    "scouter_model.train()"
   ]
  },
  {
   "cell_type": "markdown",
   "id": "6c931641-4a70-454b-9b8b-2a06a44a7d8e",
   "metadata": {},
   "source": [
    " "
   ]
  },
  {
   "cell_type": "markdown",
   "id": "2629caca-9050-40b9-925e-417869206b32",
   "metadata": {},
   "source": [
    "# 4. Model Prediction"
   ]
  },
  {
   "cell_type": "markdown",
   "id": "32b14b7f-f85a-402f-acdf-17baf99eee89",
   "metadata": {},
   "source": [
    "To make predictions on specific gene perturbations, we can use `Scouter.pred` with parameters:\n",
    "- `pert_list`: a list of perturation names for prediction\n",
    "- `n_pred`: how many control cells sampled to make the prediction. The resulting prediciton matrix for each perturbation would have shape of `[n_pred, n_genes]`\n",
    "- `seed`: reproduce the prediction result by setting a seed."
   ]
  },
  {
   "cell_type": "code",
   "execution_count": 10,
   "id": "14e0c81d-0063-4427-a6b6-a3778d39bd68",
   "metadata": {},
   "outputs": [
    {
     "data": {
      "text/plain": [
       "(300, 5060)"
      ]
     },
     "execution_count": 10,
     "metadata": {},
     "output_type": "execute_result"
    }
   ],
   "source": [
    "pred_dict = scouter_model.pred(['ATP5B+ctrl', 'MANF+ctrl'])\n",
    "pred_dict['ATP5B+ctrl'].shape"
   ]
  },
  {
   "cell_type": "markdown",
   "id": "fdd22a46-9c51-4ef3-8bdd-db4f7c3e49d2",
   "metadata": {},
   "source": [
    "# 5. Model Evaluation"
   ]
  },
  {
   "cell_type": "markdown",
   "id": "a32c4ea0-6b5f-41d2-845c-179c9d32464a",
   "metadata": {},
   "source": [
    "We calculate the metrics for each perturbation in the test set. The metric are all calculated across top20 DEGs."
   ]
  },
  {
   "cell_type": "code",
   "execution_count": 11,
   "id": "73950000-f37f-4909-adf8-6f8f2b4b3139",
   "metadata": {},
   "outputs": [
    {
     "data": {
      "text/html": [
       "<div>\n",
       "<style scoped>\n",
       "    .dataframe tbody tr th:only-of-type {\n",
       "        vertical-align: middle;\n",
       "    }\n",
       "\n",
       "    .dataframe tbody tr th {\n",
       "        vertical-align: top;\n",
       "    }\n",
       "\n",
       "    .dataframe thead th {\n",
       "        text-align: right;\n",
       "    }\n",
       "</style>\n",
       "<table border=\"1\" class=\"dataframe\">\n",
       "  <thead>\n",
       "    <tr style=\"text-align: right;\">\n",
       "      <th></th>\n",
       "      <th>NormMSE</th>\n",
       "      <th>Pearson</th>\n",
       "      <th>Spearman</th>\n",
       "    </tr>\n",
       "  </thead>\n",
       "  <tbody>\n",
       "    <tr>\n",
       "      <th>BHLHE40+ctrl</th>\n",
       "      <td>1.001355</td>\n",
       "      <td>-0.090827</td>\n",
       "      <td>0.940351</td>\n",
       "    </tr>\n",
       "    <tr>\n",
       "      <th>HARS+ctrl</th>\n",
       "      <td>0.119429</td>\n",
       "      <td>0.970638</td>\n",
       "      <td>0.956140</td>\n",
       "    </tr>\n",
       "    <tr>\n",
       "      <th>ATP5B+ctrl</th>\n",
       "      <td>0.051742</td>\n",
       "      <td>0.992881</td>\n",
       "      <td>0.943860</td>\n",
       "    </tr>\n",
       "    <tr>\n",
       "      <th>DERL2+ctrl</th>\n",
       "      <td>0.088730</td>\n",
       "      <td>0.944180</td>\n",
       "      <td>0.984211</td>\n",
       "    </tr>\n",
       "    <tr>\n",
       "      <th>TELO2+ctrl</th>\n",
       "      <td>0.133042</td>\n",
       "      <td>0.917733</td>\n",
       "      <td>1.000000</td>\n",
       "    </tr>\n",
       "    <tr>\n",
       "      <th>MRPL39+ctrl</th>\n",
       "      <td>0.138851</td>\n",
       "      <td>0.925654</td>\n",
       "      <td>0.901754</td>\n",
       "    </tr>\n",
       "    <tr>\n",
       "      <th>MANF+ctrl</th>\n",
       "      <td>0.015940</td>\n",
       "      <td>0.997436</td>\n",
       "      <td>0.998246</td>\n",
       "    </tr>\n",
       "    <tr>\n",
       "      <th>TARS+ctrl</th>\n",
       "      <td>0.372606</td>\n",
       "      <td>0.827349</td>\n",
       "      <td>0.985965</td>\n",
       "    </tr>\n",
       "    <tr>\n",
       "      <th>TTI1+ctrl</th>\n",
       "      <td>0.309619</td>\n",
       "      <td>0.943642</td>\n",
       "      <td>0.947368</td>\n",
       "    </tr>\n",
       "    <tr>\n",
       "      <th>SRP72+ctrl</th>\n",
       "      <td>0.015458</td>\n",
       "      <td>0.990845</td>\n",
       "      <td>0.998246</td>\n",
       "    </tr>\n",
       "    <tr>\n",
       "      <th>SCYL1+ctrl</th>\n",
       "      <td>0.194443</td>\n",
       "      <td>0.947792</td>\n",
       "      <td>0.975439</td>\n",
       "    </tr>\n",
       "    <tr>\n",
       "      <th>HYOU1+ctrl</th>\n",
       "      <td>0.094251</td>\n",
       "      <td>0.948432</td>\n",
       "      <td>0.994737</td>\n",
       "    </tr>\n",
       "    <tr>\n",
       "      <th>TMED10+ctrl</th>\n",
       "      <td>0.077527</td>\n",
       "      <td>0.974252</td>\n",
       "      <td>0.996491</td>\n",
       "    </tr>\n",
       "    <tr>\n",
       "      <th>CCND3+ctrl</th>\n",
       "      <td>0.356471</td>\n",
       "      <td>0.911802</td>\n",
       "      <td>0.963158</td>\n",
       "    </tr>\n",
       "    <tr>\n",
       "      <th>COPB1+ctrl</th>\n",
       "      <td>0.071086</td>\n",
       "      <td>0.989005</td>\n",
       "      <td>0.995489</td>\n",
       "    </tr>\n",
       "    <tr>\n",
       "      <th>CARS+ctrl</th>\n",
       "      <td>0.194967</td>\n",
       "      <td>0.992197</td>\n",
       "      <td>0.878947</td>\n",
       "    </tr>\n",
       "    <tr>\n",
       "      <th>SPCS2+ctrl</th>\n",
       "      <td>0.018205</td>\n",
       "      <td>0.992867</td>\n",
       "      <td>0.998246</td>\n",
       "    </tr>\n",
       "  </tbody>\n",
       "</table>\n",
       "</div>"
      ],
      "text/plain": [
       "               NormMSE   Pearson  Spearman\n",
       "BHLHE40+ctrl  1.001355 -0.090827  0.940351\n",
       "HARS+ctrl     0.119429  0.970638  0.956140\n",
       "ATP5B+ctrl    0.051742  0.992881  0.943860\n",
       "DERL2+ctrl    0.088730  0.944180  0.984211\n",
       "TELO2+ctrl    0.133042  0.917733  1.000000\n",
       "MRPL39+ctrl   0.138851  0.925654  0.901754\n",
       "MANF+ctrl     0.015940  0.997436  0.998246\n",
       "TARS+ctrl     0.372606  0.827349  0.985965\n",
       "TTI1+ctrl     0.309619  0.943642  0.947368\n",
       "SRP72+ctrl    0.015458  0.990845  0.998246\n",
       "SCYL1+ctrl    0.194443  0.947792  0.975439\n",
       "HYOU1+ctrl    0.094251  0.948432  0.994737\n",
       "TMED10+ctrl   0.077527  0.974252  0.996491\n",
       "CCND3+ctrl    0.356471  0.911802  0.963158\n",
       "COPB1+ctrl    0.071086  0.989005  0.995489\n",
       "CARS+ctrl     0.194967  0.992197  0.878947\n",
       "SPCS2+ctrl    0.018205  0.992867  0.998246"
      ]
     },
     "execution_count": 11,
     "metadata": {},
     "output_type": "execute_result"
    }
   ],
   "source": [
    "metric_df = scouter_model.evaluate()\n",
    "metric_df"
   ]
  },
  {
   "cell_type": "markdown",
   "id": "a552d507-cac2-4bfa-9811-2055aa3ba35c",
   "metadata": {},
   "source": [
    "For a given perturbation in the Testing set, `Scouter.barplot()` renders a barplot of its control, predicition, and true expression levels on top20 DEGs."
   ]
  },
  {
   "cell_type": "code",
   "execution_count": 12,
   "id": "47bf27e8-5c67-45e2-a300-e5ca9a61a1a4",
   "metadata": {},
   "outputs": [
    {
     "data": {
      "image/png": "[encoded data removed]",
      "text/plain": [
       "<Figure size 1500x800 with 1 Axes>"
      ]
     },
     "metadata": {},
     "output_type": "display_data"
    }
   ],
   "source": [
    "scouter_model.barplot('ATP5B+ctrl')"
   ]
  },
  {
   "cell_type": "code",
   "execution_count": 13,
   "id": "dbb35049-0177-45d7-884b-dba50fa8e483",
   "metadata": {},
   "outputs": [
    {
     "data": {
      "image/png": "[encoded data removed]",
      "text/plain": [
       "<Figure size 1500x800 with 1 Axes>"
      ]
     },
     "metadata": {},
     "output_type": "display_data"
    }
   ],
   "source": [
    "scouter_model.barplot('MANF+ctrl')"
   ]
  }
 ],
 "metadata": {
  "kernelspec": {
   "display_name": "Python (Perturb)",
   "language": "python",
   "name": "perturb"
  },
  "language_info": {
   "codemirror_mode": {
    "name": "ipython",
    "version": 3
   },
   "file_extension": ".py",
   "mimetype": "text/x-python",
   "name": "python",
   "nbconvert_exporter": "python",
   "pygments_lexer": "ipython3",
   "version": "3.11.0"
  }
 },
 "nbformat": 4,
 "nbformat_minor": 5
}
