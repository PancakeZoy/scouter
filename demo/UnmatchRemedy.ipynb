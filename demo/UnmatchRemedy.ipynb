{
 "cells": [
  {
   "cell_type": "markdown",
   "id": "16a941b2-9a87-4d24-8681-32d7ef2472aa",
   "metadata": {},
   "source": [
    "This notebook illustrates a situation where some perturbed genes are not presented in the gene embedding matrix. \\\n",
    "There are two possibilities causes the unpresented genes:\n",
    "- The provider of the gene embedding matrix did not include that gene. In this case, one can manually collect the text description of the gene of interest, and retrieve its corresponding embedding from LLM using, for example, OpenAI's api.\n",
    "- Perturbed genes are not found in the embedding matrix due to different symbols for an actually same gene.\n",
    "\n",
    "In this notebook, we illsutrate the second case, on the gene embeddings provided by scELMo together with Adamson dataset. We hope this notebook to serve as an reminder that users should always check the name matches between gene embedding matrix and gene expression data."
   ]
  },
  {
   "cell_type": "code",
   "execution_count": 1,
   "id": "005526cb-c014-48b7-b419-86902656d3b6",
   "metadata": {},
   "outputs": [],
   "source": [
    "import pickle\n",
    "import anndata as ad\n",
    "import pandas as pd\n",
    "import numpy as np\n",
    "from scouter import ScouterData"
   ]
  },
  {
   "cell_type": "code",
   "execution_count": 2,
   "id": "a4aff3a6-5a28-4aac-aa82-c311b1d9feec",
   "metadata": {},
   "outputs": [],
   "source": [
    "data_path = '/Users/pancake/Downloads/Perturb/Gears/adamson/Gears_data/adamson/perturb_processed.h5ad'\n",
    "embd_path = '/Users/pancake/Downloads/Perturb/scOracle/GeneEmb/scELMO_emb/ensem_emb_gpt3.5all_new.pickle'"
   ]
  },
  {
   "cell_type": "code",
   "execution_count": 3,
   "id": "369dd42f-77f6-4c8b-8f69-e2bb17227503",
   "metadata": {},
   "outputs": [],
   "source": [
    "# Load the processed scRNA-seq dataset as Anndata\n",
    "adata = ad.read_h5ad(data_path)\n",
    "\n",
    "# Load the gene embedding as the dataframe, and rename its gene alias to match the Anndata\n",
    "with open(embd_path, 'rb') as f:\n",
    "    embd = pd.DataFrame(pickle.load(f)).T\n",
    "ctrl_row = pd.DataFrame([np.zeros(embd.shape[1])], columns=embd.columns, index=['ctrl'])\n",
    "embd = pd.concat([ctrl_row, embd])"
   ]
  },
  {
   "cell_type": "code",
   "execution_count": 4,
   "id": "0e6addac-6fac-4fbd-9110-ea4b8723044d",
   "metadata": {},
   "outputs": [
    {
     "name": "stdout",
     "output_type": "stream",
     "text": [
      "10 perturbed genes are not found in the gene embedding matrix: \n",
      "['AARS' 'CARS' 'DARS' 'HARS' 'MARS' 'QARS' 'SARS' 'SLMO2' 'SRPR' 'TARS']. \n",
      "Hence they are deleted. Please check if this is because of different gene synonyms. \n",
      "Please check if the deletion of following conditions are correct: \n",
      "['AARS+ctrl', 'CARS+ctrl', 'DARS+ctrl', 'HARS+ctrl', 'MARS+ctrl', 'QARS+ctrl', 'SARS+ctrl', 'SLMO2+ctrl', 'SRPR+ctrl', 'TARS+ctrl']\n"
     ]
    }
   ],
   "source": [
    "pertdata = ScouterData(adata, embd, 'condition', 'gene_name')\n",
    "pertdata.setup_ad('embd_index')"
   ]
  },
  {
   "cell_type": "markdown",
   "id": "9e110943-fd83-4c48-a5a5-e109507990c2",
   "metadata": {},
   "source": [
    "10 out of 86 perturbed genes are not found in the scELMo's embedding matrix. **But are they real unmatches?** \\\n",
    "Let's find out their corresponding EnsemblIDs, which are supposed to be unique and non-ambiguous"
   ]
  },
  {
   "cell_type": "code",
   "execution_count": 5,
   "id": "e0298cf1-b361-43d6-aa8e-da072d753bd5",
   "metadata": {},
   "outputs": [
    {
     "data": {
      "text/html": [
       "<div>\n",
       "<style scoped>\n",
       "    .dataframe tbody tr th:only-of-type {\n",
       "        vertical-align: middle;\n",
       "    }\n",
       "\n",
       "    .dataframe tbody tr th {\n",
       "        vertical-align: top;\n",
       "    }\n",
       "\n",
       "    .dataframe thead th {\n",
       "        text-align: right;\n",
       "    }\n",
       "</style>\n",
       "<table border=\"1\" class=\"dataframe\">\n",
       "  <thead>\n",
       "    <tr style=\"text-align: right;\">\n",
       "      <th></th>\n",
       "      <th>gene_name</th>\n",
       "    </tr>\n",
       "  </thead>\n",
       "  <tbody>\n",
       "    <tr>\n",
       "      <th>ENSG00000031698</th>\n",
       "      <td>SARS</td>\n",
       "    </tr>\n",
       "    <tr>\n",
       "      <th>ENSG00000115866</th>\n",
       "      <td>DARS</td>\n",
       "    </tr>\n",
       "    <tr>\n",
       "      <th>ENSG00000172053</th>\n",
       "      <td>QARS</td>\n",
       "    </tr>\n",
       "    <tr>\n",
       "      <th>ENSG00000113407</th>\n",
       "      <td>TARS</td>\n",
       "    </tr>\n",
       "    <tr>\n",
       "      <th>ENSG00000170445</th>\n",
       "      <td>HARS</td>\n",
       "    </tr>\n",
       "    <tr>\n",
       "      <th>ENSG00000110619</th>\n",
       "      <td>CARS</td>\n",
       "    </tr>\n",
       "    <tr>\n",
       "      <th>ENSG00000182934</th>\n",
       "      <td>SRPR</td>\n",
       "    </tr>\n",
       "    <tr>\n",
       "      <th>ENSG00000166986</th>\n",
       "      <td>MARS</td>\n",
       "    </tr>\n",
       "    <tr>\n",
       "      <th>ENSG00000090861</th>\n",
       "      <td>AARS</td>\n",
       "    </tr>\n",
       "    <tr>\n",
       "      <th>ENSG00000101166</th>\n",
       "      <td>SLMO2</td>\n",
       "    </tr>\n",
       "  </tbody>\n",
       "</table>\n",
       "</div>"
      ],
      "text/plain": [
       "                gene_name\n",
       "ENSG00000031698      SARS\n",
       "ENSG00000115866      DARS\n",
       "ENSG00000172053      QARS\n",
       "ENSG00000113407      TARS\n",
       "ENSG00000170445      HARS\n",
       "ENSG00000110619      CARS\n",
       "ENSG00000182934      SRPR\n",
       "ENSG00000166986      MARS\n",
       "ENSG00000090861      AARS\n",
       "ENSG00000101166     SLMO2"
      ]
     },
     "execution_count": 5,
     "metadata": {},
     "output_type": "execute_result"
    }
   ],
   "source": [
    "unmatch_names = pertdata.unmatched_genes\n",
    "gene_df = adata.var.copy()\n",
    "unmatch_df = gene_df[gene_df.gene_name.isin(unmatch_names)]\n",
    "unmatch_df"
   ]
  },
  {
   "cell_type": "markdown",
   "id": "e66fa77d-1d63-462c-89b1-f213f8e9842f",
   "metadata": {},
   "source": [
    "Given the EnsemblIDs, let's find out what their gene symbols are on Ensembl, using a python package `mygene`"
   ]
  },
  {
   "cell_type": "code",
   "execution_count": 6,
   "id": "1a3d28ee-6bdf-45e5-ba57-c0805fc45ef3",
   "metadata": {},
   "outputs": [
    {
     "name": "stdout",
     "output_type": "stream",
     "text": [
      "ENSG00000031698's symbol on Ensembl is SARS1, and it is in the gene embedding matrix\n",
      "ENSG00000115866's symbol on Ensembl is DARS1, and it is in the gene embedding matrix\n",
      "ENSG00000172053's symbol on Ensembl is QARS1, and it is in the gene embedding matrix\n",
      "ENSG00000113407's symbol on Ensembl is TARS1, and it is in the gene embedding matrix\n",
      "ENSG00000170445's symbol on Ensembl is HARS1, and it is in the gene embedding matrix\n",
      "ENSG00000110619's symbol on Ensembl is CARS1, and it is in the gene embedding matrix\n",
      "ENSG00000182934's symbol on Ensembl is SRPRA, and it is in the gene embedding matrix\n",
      "ENSG00000166986's symbol on Ensembl is MARS1, and it is in the gene embedding matrix\n",
      "ENSG00000090861's symbol on Ensembl is AARS1, and it is in the gene embedding matrix\n",
      "ENSG00000101166's symbol on Ensembl is PRELID3B, and it is in the gene embedding matrix\n"
     ]
    }
   ],
   "source": [
    "import mygene\n",
    "ids = list(unmatch_df.index)\n",
    "name_adata = list(unmatch_df.gene_name)\n",
    "\n",
    "embd_adata = {}\n",
    "for e_id, name_adata in zip(ids, name_adata):\n",
    "    mg = mygene.MyGeneInfo()\n",
    "    result = mg.query(e_id, fields=\"symbol\")\n",
    "    gene_symbol = result[\"hits\"][0][\"symbol\"] if result[\"total\"] > 0 else None\n",
    "    is_in = gene_symbol in embd.index\n",
    "    print(f\"{e_id}'s symbol on Ensembl is {gene_symbol}, and it is{'' if is_in else ' Not'} in the gene embedding matrix\")\n",
    "    embd_adata[gene_symbol] = name_adata"
   ]
  },
  {
   "cell_type": "markdown",
   "id": "239489bf-e46e-4e5f-ab5f-5250524b3abc",
   "metadata": {},
   "source": [
    "**We rename the gene symbols in the embedding matrix to accomodate the gene expression adata, and now all genes are matched!**"
   ]
  },
  {
   "cell_type": "code",
   "execution_count": 7,
   "id": "3f885491-1355-4a29-ad12-3f547aa9acd0",
   "metadata": {},
   "outputs": [
    {
     "name": "stdout",
     "output_type": "stream",
     "text": [
      "All 87 perturbed genes are found in the gene embedding matrix!\n"
     ]
    }
   ],
   "source": [
    "embd.rename(index=embd_adata, inplace=True)\n",
    "pertdata = ScouterData(adata, embd, 'condition', 'gene_name')\n",
    "pertdata.setup_ad('embd_index')"
   ]
  }
 ],
 "metadata": {
  "kernelspec": {
   "display_name": "Python (Perturb)",
   "language": "python",
   "name": "perturb"
  },
  "language_info": {
   "codemirror_mode": {
    "name": "ipython",
    "version": 3
   },
   "file_extension": ".py",
   "mimetype": "text/x-python",
   "name": "python",
   "nbconvert_exporter": "python",
   "pygments_lexer": "ipython3",
   "version": "3.11.0"
  }
 },
 "nbformat": 4,
 "nbformat_minor": 5
}
